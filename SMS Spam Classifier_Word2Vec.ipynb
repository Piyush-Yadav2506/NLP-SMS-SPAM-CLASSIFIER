{
 "cells": [
  {
   "cell_type": "code",
   "execution_count": 94,
   "id": "c0eff53d-da69-47ee-9baf-02300f56d3c1",
   "metadata": {},
   "outputs": [],
   "source": [
    "import numpy as np\n",
    "import pandas as pd\n",
    "import gensim\n",
    "import matplotlib.pyplot as plt\n",
    "import seaborn as sns"
   ]
  },
  {
   "cell_type": "code",
   "execution_count": null,
   "id": "a83f82f6-35cb-47a1-8e56-1832188f12ac",
   "metadata": {},
   "outputs": [],
   "source": [
    "##  download pretrained word vectors of news\n",
    "\n",
    "## api.load('word2vec-google-news-300')"
   ]
  },
  {
   "cell_type": "code",
   "execution_count": 3,
   "id": "0b8947df-8f8f-426d-a442-1a4e59c0ee08",
   "metadata": {},
   "outputs": [
    {
     "data": {
      "text/html": [
       "<div>\n",
       "<style scoped>\n",
       "    .dataframe tbody tr th:only-of-type {\n",
       "        vertical-align: middle;\n",
       "    }\n",
       "\n",
       "    .dataframe tbody tr th {\n",
       "        vertical-align: top;\n",
       "    }\n",
       "\n",
       "    .dataframe thead th {\n",
       "        text-align: right;\n",
       "    }\n",
       "</style>\n",
       "<table border=\"1\" class=\"dataframe\">\n",
       "  <thead>\n",
       "    <tr style=\"text-align: right;\">\n",
       "      <th></th>\n",
       "      <th>v1</th>\n",
       "      <th>v2</th>\n",
       "      <th>Unnamed: 2</th>\n",
       "      <th>Unnamed: 3</th>\n",
       "      <th>Unnamed: 4</th>\n",
       "    </tr>\n",
       "  </thead>\n",
       "  <tbody>\n",
       "    <tr>\n",
       "      <th>0</th>\n",
       "      <td>ham</td>\n",
       "      <td>Go until jurong point, crazy.. Available only ...</td>\n",
       "      <td>NaN</td>\n",
       "      <td>NaN</td>\n",
       "      <td>NaN</td>\n",
       "    </tr>\n",
       "    <tr>\n",
       "      <th>1</th>\n",
       "      <td>ham</td>\n",
       "      <td>Ok lar... Joking wif u oni...</td>\n",
       "      <td>NaN</td>\n",
       "      <td>NaN</td>\n",
       "      <td>NaN</td>\n",
       "    </tr>\n",
       "    <tr>\n",
       "      <th>2</th>\n",
       "      <td>spam</td>\n",
       "      <td>Free entry in 2 a wkly comp to win FA Cup fina...</td>\n",
       "      <td>NaN</td>\n",
       "      <td>NaN</td>\n",
       "      <td>NaN</td>\n",
       "    </tr>\n",
       "    <tr>\n",
       "      <th>3</th>\n",
       "      <td>ham</td>\n",
       "      <td>U dun say so early hor... U c already then say...</td>\n",
       "      <td>NaN</td>\n",
       "      <td>NaN</td>\n",
       "      <td>NaN</td>\n",
       "    </tr>\n",
       "    <tr>\n",
       "      <th>4</th>\n",
       "      <td>ham</td>\n",
       "      <td>Nah I don't think he goes to usf, he lives aro...</td>\n",
       "      <td>NaN</td>\n",
       "      <td>NaN</td>\n",
       "      <td>NaN</td>\n",
       "    </tr>\n",
       "  </tbody>\n",
       "</table>\n",
       "</div>"
      ],
      "text/plain": [
       "     v1                                                 v2 Unnamed: 2  \\\n",
       "0   ham  Go until jurong point, crazy.. Available only ...        NaN   \n",
       "1   ham                      Ok lar... Joking wif u oni...        NaN   \n",
       "2  spam  Free entry in 2 a wkly comp to win FA Cup fina...        NaN   \n",
       "3   ham  U dun say so early hor... U c already then say...        NaN   \n",
       "4   ham  Nah I don't think he goes to usf, he lives aro...        NaN   \n",
       "\n",
       "  Unnamed: 3 Unnamed: 4  \n",
       "0        NaN        NaN  \n",
       "1        NaN        NaN  \n",
       "2        NaN        NaN  \n",
       "3        NaN        NaN  \n",
       "4        NaN        NaN  "
      ]
     },
     "execution_count": 3,
     "metadata": {},
     "output_type": "execute_result"
    }
   ],
   "source": [
    "df = pd.read_csv('spam.csv',sep=',',encoding='latin-1')\n",
    "df.head()"
   ]
  },
  {
   "cell_type": "code",
   "execution_count": 5,
   "id": "dbb1da94-1c69-4ef8-a9c3-ea95b7bf378d",
   "metadata": {},
   "outputs": [
    {
     "name": "stdout",
     "output_type": "stream",
     "text": [
      "(5572, 2)\n",
      "Null Values in the dataframe: 0\n",
      "\n",
      " Null Values by columns:\n",
      "label    0\n",
      "sms      0\n",
      "dtype: int64\n"
     ]
    }
   ],
   "source": [
    "# Keep necessary columns only\n",
    "df = df[['v1','v2']]\n",
    "\n",
    "# Renaming columns\n",
    "df.columns = ['label','sms']\n",
    "##df = df.set_axis(['label','sms'], axis=1)\n",
    "\n",
    "# Shape of dataframe\n",
    "print(df.shape)\n",
    "\n",
    "# Null values\n",
    "print('Null Values in the dataframe:',df.isnull().sum().sum())\n",
    "print('\\n Null Values by columns:')\n",
    "print(df.isna().sum())"
   ]
  },
  {
   "cell_type": "code",
   "execution_count": 13,
   "id": "78ea29ce-ae5f-4a31-81a8-5f72e200bf0b",
   "metadata": {},
   "outputs": [],
   "source": [
    "df.to_csv('spam_req_features.csv',index=False)"
   ]
  },
  {
   "cell_type": "code",
   "execution_count": 7,
   "id": "2de49559-8476-48cc-b449-72f08989c609",
   "metadata": {},
   "outputs": [
    {
     "name": "stdout",
     "output_type": "stream",
     "text": [
      "Target Column Distribution:\n",
      "label\n",
      "ham     4825\n",
      "spam     747\n",
      "Name: count, dtype: int64\n",
      "\n",
      "Target Column Distribution[--percent--]:\n",
      "label\n",
      "ham     86.593683\n",
      "spam    13.406317\n",
      "Name: proportion, dtype: float64\n",
      "\n",
      "Imbalance Classes in Dataframe\n"
     ]
    }
   ],
   "source": [
    "## Target column Distribution\n",
    "label_count = df.label.value_counts()\n",
    "print('Target Column Distribution:')\n",
    "print(label_count)\n",
    "\n",
    "label_percent = df.label.value_counts(normalize=True)*100\n",
    "print('\\nTarget Column Distribution[--percent--]:')\n",
    "print(label_percent)\n",
    "\n",
    "# Balance check              we will keep threshold upto 60%\n",
    "if label_percent.get('ham',0)>60:\n",
    "    print(\"\\nImbalance Classes in Dataframe\")\n",
    "else:\n",
    "    print(\"Balanced Dataframe\")\n"
   ]
  },
  {
   "cell_type": "code",
   "execution_count": 9,
   "id": "91a541b9-e217-4e48-aa99-8edb3b8a65c2",
   "metadata": {},
   "outputs": [
    {
     "name": "stderr",
     "output_type": "stream",
     "text": [
      "[nltk_data] Downloading package stopwords to\n",
      "[nltk_data]     C:\\Users\\piyus\\AppData\\Roaming\\nltk_data...\n",
      "[nltk_data]   Package stopwords is already up-to-date!\n"
     ]
    }
   ],
   "source": [
    "import string\n",
    "import contractions\n",
    "import re\n",
    "import nltk\n",
    "nltk.download('stopwords')  # if not\n",
    "from nltk.corpus import stopwords\n",
    "from nltk.stem import WordNetLemmatizer\n",
    "lemmatizer = WordNetLemmatizer()"
   ]
  },
  {
   "cell_type": "code",
   "execution_count": 11,
   "id": "3e82b6de-435a-403f-b730-aa849c784bc8",
   "metadata": {},
   "outputs": [],
   "source": [
    "## Text Preprocessing Function\n",
    "\n",
    "def clean_text(text):\n",
    "    \"\"\" This function will do complete preproceesing of the text and provide clean_text\n",
    "        lowercasing, special character, numbers, contraction, stopwords etc.\"\"\"\n",
    "    # Lowercasing\n",
    "    text = text.lower()\n",
    "\n",
    "    # HTML Tags (if any)\n",
    "    text = re.sub(r\"<.*?>\",\"\", text)\n",
    "    \n",
    "    # Url's and digits\n",
    "    text = re.sub(r\"https?://\\S+|www\\.\\S+|[\\d]+\",\"\", text)\n",
    "\n",
    "    # contractions word like im --> i am\n",
    "    text = contractions.fix(text)\n",
    "\n",
    "    # Punctuations\n",
    "    text = text.translate(str.maketrans(\"\",\"\",string.punctuation))\n",
    "\n",
    "    # Split text\n",
    "    words = text.split()\n",
    "    \n",
    "    # Stopwords\n",
    "    eng_words = stopwords.words('english')\n",
    "    words = [lemmatizer.lemmatize(word) for word in words if word not in eng_words]\n",
    "    return \" \".join(words)"
   ]
  },
  {
   "cell_type": "code",
   "execution_count": 13,
   "id": "567fbece-2ead-4a74-89a4-4f8e834ce3fc",
   "metadata": {},
   "outputs": [],
   "source": [
    "df1 = df.copy()"
   ]
  },
  {
   "cell_type": "code",
   "execution_count": 15,
   "id": "4316e927-61c2-4bd2-a8c6-ae13350228f4",
   "metadata": {},
   "outputs": [],
   "source": [
    "df1['sms_legth'] = df1.sms.apply(len)"
   ]
  },
  {
   "cell_type": "code",
   "execution_count": 17,
   "id": "616dbd20-34ff-4400-8de9-97b2756ea6e7",
   "metadata": {},
   "outputs": [],
   "source": [
    "df1['cleaned_sms'] = df1.sms.apply(clean_text)"
   ]
  },
  {
   "cell_type": "code",
   "execution_count": 19,
   "id": "a89c4912-d8f5-4b87-a95c-4327a275daa9",
   "metadata": {},
   "outputs": [
    {
     "data": {
      "text/html": [
       "<div>\n",
       "<style scoped>\n",
       "    .dataframe tbody tr th:only-of-type {\n",
       "        vertical-align: middle;\n",
       "    }\n",
       "\n",
       "    .dataframe tbody tr th {\n",
       "        vertical-align: top;\n",
       "    }\n",
       "\n",
       "    .dataframe thead th {\n",
       "        text-align: right;\n",
       "    }\n",
       "</style>\n",
       "<table border=\"1\" class=\"dataframe\">\n",
       "  <thead>\n",
       "    <tr style=\"text-align: right;\">\n",
       "      <th></th>\n",
       "      <th>label</th>\n",
       "      <th>sms</th>\n",
       "      <th>sms_legth</th>\n",
       "      <th>cleaned_sms</th>\n",
       "    </tr>\n",
       "  </thead>\n",
       "  <tbody>\n",
       "    <tr>\n",
       "      <th>0</th>\n",
       "      <td>ham</td>\n",
       "      <td>Go until jurong point, crazy.. Available only ...</td>\n",
       "      <td>111</td>\n",
       "      <td>go jurong point crazy available bugis n great ...</td>\n",
       "    </tr>\n",
       "    <tr>\n",
       "      <th>1</th>\n",
       "      <td>ham</td>\n",
       "      <td>Ok lar... Joking wif u oni...</td>\n",
       "      <td>29</td>\n",
       "      <td>ok lar joking wif oni</td>\n",
       "    </tr>\n",
       "    <tr>\n",
       "      <th>2</th>\n",
       "      <td>spam</td>\n",
       "      <td>Free entry in 2 a wkly comp to win FA Cup fina...</td>\n",
       "      <td>155</td>\n",
       "      <td>free entry wkly comp win fa cup final tkts st ...</td>\n",
       "    </tr>\n",
       "    <tr>\n",
       "      <th>3</th>\n",
       "      <td>ham</td>\n",
       "      <td>U dun say so early hor... U c already then say...</td>\n",
       "      <td>49</td>\n",
       "      <td>dun say early hor c already say</td>\n",
       "    </tr>\n",
       "    <tr>\n",
       "      <th>4</th>\n",
       "      <td>ham</td>\n",
       "      <td>Nah I don't think he goes to usf, he lives aro...</td>\n",
       "      <td>61</td>\n",
       "      <td>nah think go usf life around though</td>\n",
       "    </tr>\n",
       "    <tr>\n",
       "      <th>...</th>\n",
       "      <td>...</td>\n",
       "      <td>...</td>\n",
       "      <td>...</td>\n",
       "      <td>...</td>\n",
       "    </tr>\n",
       "    <tr>\n",
       "      <th>5567</th>\n",
       "      <td>spam</td>\n",
       "      <td>This is the 2nd time we have tried 2 contact u...</td>\n",
       "      <td>161</td>\n",
       "      <td>nd time tried contact å£ pound prize claim eas...</td>\n",
       "    </tr>\n",
       "    <tr>\n",
       "      <th>5568</th>\n",
       "      <td>ham</td>\n",
       "      <td>Will Ì_ b going to esplanade fr home?</td>\n",
       "      <td>37</td>\n",
       "      <td>ì b going esplanade fr home</td>\n",
       "    </tr>\n",
       "    <tr>\n",
       "      <th>5569</th>\n",
       "      <td>ham</td>\n",
       "      <td>Pity, * was in mood for that. So...any other s...</td>\n",
       "      <td>57</td>\n",
       "      <td>pity mood soany suggestion</td>\n",
       "    </tr>\n",
       "    <tr>\n",
       "      <th>5570</th>\n",
       "      <td>ham</td>\n",
       "      <td>The guy did some bitching but I acted like i'd...</td>\n",
       "      <td>125</td>\n",
       "      <td>guy bitching acted like would interested buyin...</td>\n",
       "    </tr>\n",
       "    <tr>\n",
       "      <th>5571</th>\n",
       "      <td>ham</td>\n",
       "      <td>Rofl. Its true to its name</td>\n",
       "      <td>26</td>\n",
       "      <td>rofl true name</td>\n",
       "    </tr>\n",
       "  </tbody>\n",
       "</table>\n",
       "<p>5572 rows × 4 columns</p>\n",
       "</div>"
      ],
      "text/plain": [
       "     label                                                sms  sms_legth  \\\n",
       "0      ham  Go until jurong point, crazy.. Available only ...        111   \n",
       "1      ham                      Ok lar... Joking wif u oni...         29   \n",
       "2     spam  Free entry in 2 a wkly comp to win FA Cup fina...        155   \n",
       "3      ham  U dun say so early hor... U c already then say...         49   \n",
       "4      ham  Nah I don't think he goes to usf, he lives aro...         61   \n",
       "...    ...                                                ...        ...   \n",
       "5567  spam  This is the 2nd time we have tried 2 contact u...        161   \n",
       "5568   ham              Will Ì_ b going to esplanade fr home?         37   \n",
       "5569   ham  Pity, * was in mood for that. So...any other s...         57   \n",
       "5570   ham  The guy did some bitching but I acted like i'd...        125   \n",
       "5571   ham                         Rofl. Its true to its name         26   \n",
       "\n",
       "                                            cleaned_sms  \n",
       "0     go jurong point crazy available bugis n great ...  \n",
       "1                                 ok lar joking wif oni  \n",
       "2     free entry wkly comp win fa cup final tkts st ...  \n",
       "3                       dun say early hor c already say  \n",
       "4                   nah think go usf life around though  \n",
       "...                                                 ...  \n",
       "5567  nd time tried contact å£ pound prize claim eas...  \n",
       "5568                        ì b going esplanade fr home  \n",
       "5569                         pity mood soany suggestion  \n",
       "5570  guy bitching acted like would interested buyin...  \n",
       "5571                                     rofl true name  \n",
       "\n",
       "[5572 rows x 4 columns]"
      ]
     },
     "execution_count": 19,
     "metadata": {},
     "output_type": "execute_result"
    }
   ],
   "source": [
    "df1"
   ]
  },
  {
   "cell_type": "code",
   "execution_count": 21,
   "id": "ba210eac-7c35-4416-b467-4b4b77e0e2e7",
   "metadata": {},
   "outputs": [
    {
     "data": {
      "text/html": [
       "<div>\n",
       "<style scoped>\n",
       "    .dataframe tbody tr th:only-of-type {\n",
       "        vertical-align: middle;\n",
       "    }\n",
       "\n",
       "    .dataframe tbody tr th {\n",
       "        vertical-align: top;\n",
       "    }\n",
       "\n",
       "    .dataframe thead th {\n",
       "        text-align: right;\n",
       "    }\n",
       "</style>\n",
       "<table border=\"1\" class=\"dataframe\">\n",
       "  <thead>\n",
       "    <tr style=\"text-align: right;\">\n",
       "      <th></th>\n",
       "      <th>label</th>\n",
       "      <th>sms</th>\n",
       "      <th>sms_legth</th>\n",
       "      <th>cleaned_sms</th>\n",
       "    </tr>\n",
       "  </thead>\n",
       "  <tbody>\n",
       "    <tr>\n",
       "      <th>0</th>\n",
       "      <td>0</td>\n",
       "      <td>Go until jurong point, crazy.. Available only ...</td>\n",
       "      <td>111</td>\n",
       "      <td>go jurong point crazy available bugis n great ...</td>\n",
       "    </tr>\n",
       "    <tr>\n",
       "      <th>1</th>\n",
       "      <td>0</td>\n",
       "      <td>Ok lar... Joking wif u oni...</td>\n",
       "      <td>29</td>\n",
       "      <td>ok lar joking wif oni</td>\n",
       "    </tr>\n",
       "    <tr>\n",
       "      <th>2</th>\n",
       "      <td>1</td>\n",
       "      <td>Free entry in 2 a wkly comp to win FA Cup fina...</td>\n",
       "      <td>155</td>\n",
       "      <td>free entry wkly comp win fa cup final tkts st ...</td>\n",
       "    </tr>\n",
       "    <tr>\n",
       "      <th>3</th>\n",
       "      <td>0</td>\n",
       "      <td>U dun say so early hor... U c already then say...</td>\n",
       "      <td>49</td>\n",
       "      <td>dun say early hor c already say</td>\n",
       "    </tr>\n",
       "    <tr>\n",
       "      <th>4</th>\n",
       "      <td>0</td>\n",
       "      <td>Nah I don't think he goes to usf, he lives aro...</td>\n",
       "      <td>61</td>\n",
       "      <td>nah think go usf life around though</td>\n",
       "    </tr>\n",
       "  </tbody>\n",
       "</table>\n",
       "</div>"
      ],
      "text/plain": [
       "   label                                                sms  sms_legth  \\\n",
       "0      0  Go until jurong point, crazy.. Available only ...        111   \n",
       "1      0                      Ok lar... Joking wif u oni...         29   \n",
       "2      1  Free entry in 2 a wkly comp to win FA Cup fina...        155   \n",
       "3      0  U dun say so early hor... U c already then say...         49   \n",
       "4      0  Nah I don't think he goes to usf, he lives aro...         61   \n",
       "\n",
       "                                         cleaned_sms  \n",
       "0  go jurong point crazy available bugis n great ...  \n",
       "1                              ok lar joking wif oni  \n",
       "2  free entry wkly comp win fa cup final tkts st ...  \n",
       "3                    dun say early hor c already say  \n",
       "4                nah think go usf life around though  "
      ]
     },
     "execution_count": 21,
     "metadata": {},
     "output_type": "execute_result"
    }
   ],
   "source": [
    "# Encoding target column\n",
    "from sklearn.preprocessing import LabelEncoder\n",
    "le = LabelEncoder()\n",
    "df1['label'] = le.fit_transform(df1['label'])\n",
    "df1.head()"
   ]
  },
  {
   "cell_type": "code",
   "execution_count": 55,
   "id": "a23fe89e-6846-4ee8-915d-5f57e5823915",
   "metadata": {},
   "outputs": [],
   "source": [
    "# Tokens for word2vec\n",
    "from nltk import word_tokenize\n",
    "corpus = df1['cleaned_sms'].apply(word_tokenize)"
   ]
  },
  {
   "cell_type": "code",
   "execution_count": 57,
   "id": "0762b49c-df0f-44b8-88fd-b496d9007c33",
   "metadata": {},
   "outputs": [],
   "source": [
    "# train test split\n",
    "X = corpus\n",
    "y = df1['label']\n",
    "from sklearn.model_selection import train_test_split\n",
    "X_train,X_test,y_train,y_test = train_test_split(X,y, test_size=0.2, random_state=42)"
   ]
  },
  {
   "cell_type": "markdown",
   "id": "6819ff2d-569f-44c9-9ffe-c5e31e9cc6e9",
   "metadata": {},
   "source": [
    "## Word2Vec model using Gensim"
   ]
  },
  {
   "cell_type": "code",
   "execution_count": 59,
   "id": "6a61d97a-0074-4d81-93eb-ac0845c02e94",
   "metadata": {},
   "outputs": [
    {
     "data": {
      "text/plain": [
       "1978           [boat, still, mom, check, yo, half, naked]\n",
       "3989    [bank, granite, issue, strongbuy, explosive, p...\n",
       "3935           [r, giving, second, chance, rahul, dengra]\n",
       "4078             [played, smash, bros, ltgt, religiously]\n",
       "4086    [private, account, statement, show, unredeemed...\n",
       "                              ...                        \n",
       "3772    [came, hostel, going, sleep, plz, call, class,...\n",
       "5191                                 [sorry, call, later]\n",
       "5226               [prabhai, sorydarealyfrm, heart, sory]\n",
       "5390                        [nt, joking, seriously, told]\n",
       "860                                    [work, going, min]\n",
       "Name: cleaned_sms, Length: 4457, dtype: object"
      ]
     },
     "execution_count": 59,
     "metadata": {},
     "output_type": "execute_result"
    }
   ],
   "source": [
    "X_train"
   ]
  },
  {
   "cell_type": "code",
   "execution_count": 61,
   "id": "57f2b0ec-8e99-4a0d-8aa6-b8915e050146",
   "metadata": {},
   "outputs": [],
   "source": [
    "from gensim.models import Word2Vec, KeyedVectors\n",
    "spam_model = Word2Vec(sentences=X_train,    # Building voabulary from train\n",
    "                      vector_size=100, window=5, min_count=2, workers=4, sg=1)"
   ]
  },
  {
   "cell_type": "code",
   "execution_count": 67,
   "id": "f059fe3b-c6ca-4dfe-9acc-54d45e36192f",
   "metadata": {},
   "outputs": [
    {
     "data": {
      "text/plain": [
       "(307537, 373310)"
      ]
     },
     "execution_count": 67,
     "metadata": {},
     "output_type": "execute_result"
    }
   ],
   "source": [
    "## Training Word2Vec model\n",
    "spam_model.train(X_train, total_examples=spam_model.corpus_count, epochs=10)"
   ]
  },
  {
   "cell_type": "code",
   "execution_count": 81,
   "id": "ebebe89b-523b-4518-8718-24286cc09962",
   "metadata": {},
   "outputs": [
    {
     "data": {
      "text/plain": [
       "[('knw', 0.9222782850265503),\n",
       " ('hello', 0.8974279761314392),\n",
       " ('meaning', 0.891961395740509),\n",
       " ('margaret', 0.8883962035179138),\n",
       " ('wt', 0.877517819404602),\n",
       " ('girlfrnd', 0.8745303153991699),\n",
       " ('name', 0.8484283685684204),\n",
       " ('frnd', 0.8445254564285278),\n",
       " ('joined', 0.8321678042411804),\n",
       " ('grahmbell', 0.8076561689376831)]"
      ]
     },
     "execution_count": 81,
     "metadata": {},
     "output_type": "execute_result"
    }
   ],
   "source": [
    "spam_model.wv.most_similar('girl')"
   ]
  },
  {
   "cell_type": "markdown",
   "id": "dad2a91d-006e-4a07-b6e8-c7895c55cf4e",
   "metadata": {},
   "source": [
    "### Defining avgWord2Vec"
   ]
  },
  {
   "cell_type": "code",
   "execution_count": 88,
   "id": "e4aeee3f-a126-4e4f-b1ef-4686f958b6da",
   "metadata": {},
   "outputs": [],
   "source": [
    "def avg_word2vec(sentences,model):\n",
    "    vectors = [model.wv[word] for word in sentences if word in model.wv]\n",
    "\n",
    "    return np.mean(vectors, axis=0) if vectors else np.zeros(model.vector_size)"
   ]
  },
  {
   "cell_type": "code",
   "execution_count": 117,
   "id": "eb0f14af-019b-41fe-bc9b-86419fcc3285",
   "metadata": {},
   "outputs": [
    {
     "name": "stderr",
     "output_type": "stream",
     "text": [
      "Vectorizing X Train: 100%|██████████████████████████████████████████████████████| 4457/4457 [00:00<00:00, 21744.66it/s]\n"
     ]
    }
   ],
   "source": [
    "from tqdm import tqdm\n",
    "import time\n",
    "\n",
    "X_train_vector = np.array([avg_word2vec(s,spam_model) for s in tqdm(X_train, desc='Vectorizing X Train')])"
   ]
  },
  {
   "cell_type": "code",
   "execution_count": 119,
   "id": "b82d9a36-5678-4a50-80a9-6b313b3a51fa",
   "metadata": {},
   "outputs": [
    {
     "data": {
      "text/plain": [
       "(4457, 100)"
      ]
     },
     "execution_count": 119,
     "metadata": {},
     "output_type": "execute_result"
    }
   ],
   "source": [
    "X_train_vector.shape"
   ]
  },
  {
   "cell_type": "code",
   "execution_count": 121,
   "id": "bbcc69bc-1399-4309-8b9f-696c8accf3df",
   "metadata": {},
   "outputs": [
    {
     "name": "stderr",
     "output_type": "stream",
     "text": [
      "Vectorizing X Test: 100%|███████████████████████████████████████████████████████| 1115/1115 [00:00<00:00, 22746.35it/s]\n"
     ]
    }
   ],
   "source": [
    "X_test_vector = np.array([avg_word2vec(s,spam_model) for s in tqdm(X_test, desc='Vectorizing X Test')])"
   ]
  },
  {
   "cell_type": "code",
   "execution_count": 123,
   "id": "91771aeb-1f73-42b0-90fc-f896cecf7843",
   "metadata": {},
   "outputs": [
    {
     "data": {
      "text/plain": [
       "(1115, 100)"
      ]
     },
     "execution_count": 123,
     "metadata": {},
     "output_type": "execute_result"
    }
   ],
   "source": [
    "X_test_vector.shape"
   ]
  },
  {
   "cell_type": "markdown",
   "id": "25c7071c-6ace-4219-8262-b2a0cf9b2a91",
   "metadata": {},
   "source": [
    "## Model Building"
   ]
  },
  {
   "cell_type": "markdown",
   "id": "2442958f-4d06-483b-97fe-af0f0239a5ce",
   "metadata": {},
   "source": [
    "- **Logistic Regression**\n",
    "- **Decision Tree**\n",
    "- **Random Forest**\n",
    "- **Support Vector Machine**\n",
    "- **KNN**\n",
    "- **Naive Bayes**\n",
    "- **XG Boost**\n",
    "- ****"
   ]
  },
  {
   "cell_type": "code",
   "execution_count": 107,
   "id": "a57f87fd-58ae-4e80-aa0f-bd21061c821e",
   "metadata": {},
   "outputs": [],
   "source": [
    "# Libraries \n",
    "\n",
    "from sklearn.linear_model import LogisticRegression\n",
    "from sklearn.tree import DecisionTreeClassifier\n",
    "from sklearn.ensemble import RandomForestClassifier\n",
    "from sklearn.neighbors import KNeighborsClassifier\n",
    "from sklearn.svm import SVC\n",
    "from sklearn.naive_bayes import MultinomialNB\n",
    "from xgboost import XGBClassifier\n",
    "\n",
    "from sklearn.model_selection import cross_val_score\n",
    "from sklearn.metrics import accuracy_score,precision_score,recall_score,f1_score,classification_report,confusion_matrix"
   ]
  },
  {
   "cell_type": "code",
   "execution_count": 125,
   "id": "e71aadf5-3788-41bf-9b6d-8843a9f276a8",
   "metadata": {},
   "outputs": [
    {
     "name": "stdout",
     "output_type": "stream",
     "text": [
      "Logistic Regression: 0.9692603416133421\n",
      "Decision Tree: 0.958266236710838\n",
      "Random Forest: 0.9793560739658387\n",
      "SVM: 0.9741955963117851\n",
      "KNN: 0.9723983473572833\n",
      "XG Boost: 0.9800282158512621\n"
     ]
    }
   ],
   "source": [
    "# Testing diff. Classifiers\n",
    "models = {\n",
    "    'Logistic Regression': LogisticRegression(max_iter=1000),\n",
    "    'Decision Tree': DecisionTreeClassifier(),\n",
    "    'Random Forest': RandomForestClassifier(),\n",
    "    'SVM': SVC(),\n",
    "    'KNN': KNeighborsClassifier(),\n",
    "    'XG Boost': XGBClassifier()\n",
    "}\n",
    "\n",
    "for name,model in models.items():\n",
    "    model.fit(X_train_vector,y_train)\n",
    "    cv_score = cross_val_score(model, X_train_vector,y_train,scoring='accuracy',cv=10)\n",
    "    print(f\"{name}: {cv_score.mean()}\")"
   ]
  },
  {
   "cell_type": "code",
   "execution_count": 129,
   "id": "fc0333cb-345e-421a-a2f9-f541ba1cfa34",
   "metadata": {},
   "outputs": [
    {
     "name": "stdout",
     "output_type": "stream",
     "text": [
      "Logistic Regression\n",
      "Confusion Matrix:\n",
      " [[949  16]\n",
      " [ 27 123]]\n",
      "Classification Report:\n",
      "               precision    recall  f1-score   support\n",
      "\n",
      "           0       0.97      0.98      0.98       965\n",
      "           1       0.88      0.82      0.85       150\n",
      "\n",
      "    accuracy                           0.96      1115\n",
      "   macro avg       0.93      0.90      0.91      1115\n",
      "weighted avg       0.96      0.96      0.96      1115\n",
      "\n",
      "============================================================================\n",
      "Decision Tree\n",
      "Confusion Matrix:\n",
      " [[941  24]\n",
      " [ 20 130]]\n",
      "Classification Report:\n",
      "               precision    recall  f1-score   support\n",
      "\n",
      "           0       0.98      0.98      0.98       965\n",
      "           1       0.84      0.87      0.86       150\n",
      "\n",
      "    accuracy                           0.96      1115\n",
      "   macro avg       0.91      0.92      0.92      1115\n",
      "weighted avg       0.96      0.96      0.96      1115\n",
      "\n",
      "============================================================================\n",
      "Random Forest\n",
      "Confusion Matrix:\n",
      " [[957   8]\n",
      " [ 20 130]]\n",
      "Classification Report:\n",
      "               precision    recall  f1-score   support\n",
      "\n",
      "           0       0.98      0.99      0.99       965\n",
      "           1       0.94      0.87      0.90       150\n",
      "\n",
      "    accuracy                           0.97      1115\n",
      "   macro avg       0.96      0.93      0.94      1115\n",
      "weighted avg       0.97      0.97      0.97      1115\n",
      "\n",
      "============================================================================\n",
      "SVM\n",
      "Confusion Matrix:\n",
      " [[949  16]\n",
      " [ 25 125]]\n",
      "Classification Report:\n",
      "               precision    recall  f1-score   support\n",
      "\n",
      "           0       0.97      0.98      0.98       965\n",
      "           1       0.89      0.83      0.86       150\n",
      "\n",
      "    accuracy                           0.96      1115\n",
      "   macro avg       0.93      0.91      0.92      1115\n",
      "weighted avg       0.96      0.96      0.96      1115\n",
      "\n",
      "============================================================================\n",
      "KNN\n",
      "Confusion Matrix:\n",
      " [[953  12]\n",
      " [ 17 133]]\n",
      "Classification Report:\n",
      "               precision    recall  f1-score   support\n",
      "\n",
      "           0       0.98      0.99      0.99       965\n",
      "           1       0.92      0.89      0.90       150\n",
      "\n",
      "    accuracy                           0.97      1115\n",
      "   macro avg       0.95      0.94      0.94      1115\n",
      "weighted avg       0.97      0.97      0.97      1115\n",
      "\n",
      "============================================================================\n",
      "XG Boost\n",
      "Confusion Matrix:\n",
      " [[953  12]\n",
      " [ 17 133]]\n",
      "Classification Report:\n",
      "               precision    recall  f1-score   support\n",
      "\n",
      "           0       0.98      0.99      0.99       965\n",
      "           1       0.92      0.89      0.90       150\n",
      "\n",
      "    accuracy                           0.97      1115\n",
      "   macro avg       0.95      0.94      0.94      1115\n",
      "weighted avg       0.97      0.97      0.97      1115\n",
      "\n",
      "============================================================================\n"
     ]
    }
   ],
   "source": [
    "## Evaluation of models\n",
    "report = []\n",
    "\n",
    "for name,model in models.items():\n",
    "    train_pred = model.predict(X_train_vector)\n",
    "    test_pred = model.predict(X_test_vector)\n",
    "    train_acc = accuracy_score(y_train,train_pred)\n",
    "    test_acc = accuracy_score(y_test,test_pred)\n",
    "    ps = precision_score(y_test,test_pred)\n",
    "    rs = recall_score(y_test,test_pred)\n",
    "    f1 = f1_score(y_test,test_pred)\n",
    "    cr = classification_report(y_test,test_pred)\n",
    "    cm = confusion_matrix(y_test,test_pred)\n",
    "\n",
    "    print(name)\n",
    "    print(\"Confusion Matrix:\\n\", cm)\n",
    "    print(\"Classification Report:\\n\", cr)\n",
    "    print('============================================================================')\n",
    "    report.append({'Model': name, 'Train Accuracy': train_acc, 'Test Accuracy': test_acc, 'Recall': rs, 'Precision': ps, 'F1': f1})\n",
    "\n",
    "report_df = pd.DataFrame(data=report, index=None)"
   ]
  },
  {
   "cell_type": "code",
   "execution_count": 131,
   "id": "05f06194-2f4c-4451-a808-4eac787c4655",
   "metadata": {},
   "outputs": [
    {
     "data": {
      "text/html": [
       "<div>\n",
       "<style scoped>\n",
       "    .dataframe tbody tr th:only-of-type {\n",
       "        vertical-align: middle;\n",
       "    }\n",
       "\n",
       "    .dataframe tbody tr th {\n",
       "        vertical-align: top;\n",
       "    }\n",
       "\n",
       "    .dataframe thead th {\n",
       "        text-align: right;\n",
       "    }\n",
       "</style>\n",
       "<table border=\"1\" class=\"dataframe\">\n",
       "  <thead>\n",
       "    <tr style=\"text-align: right;\">\n",
       "      <th></th>\n",
       "      <th>Model</th>\n",
       "      <th>Train Accuracy</th>\n",
       "      <th>Test Accuracy</th>\n",
       "      <th>Recall</th>\n",
       "      <th>Precision</th>\n",
       "      <th>F1</th>\n",
       "    </tr>\n",
       "  </thead>\n",
       "  <tbody>\n",
       "    <tr>\n",
       "      <th>2</th>\n",
       "      <td>Random Forest</td>\n",
       "      <td>0.999776</td>\n",
       "      <td>0.974888</td>\n",
       "      <td>0.866667</td>\n",
       "      <td>0.942029</td>\n",
       "      <td>0.902778</td>\n",
       "    </tr>\n",
       "    <tr>\n",
       "      <th>5</th>\n",
       "      <td>XG Boost</td>\n",
       "      <td>0.999776</td>\n",
       "      <td>0.973991</td>\n",
       "      <td>0.886667</td>\n",
       "      <td>0.917241</td>\n",
       "      <td>0.901695</td>\n",
       "    </tr>\n",
       "    <tr>\n",
       "      <th>4</th>\n",
       "      <td>KNN</td>\n",
       "      <td>0.981153</td>\n",
       "      <td>0.973991</td>\n",
       "      <td>0.886667</td>\n",
       "      <td>0.917241</td>\n",
       "      <td>0.901695</td>\n",
       "    </tr>\n",
       "    <tr>\n",
       "      <th>3</th>\n",
       "      <td>SVM</td>\n",
       "      <td>0.976666</td>\n",
       "      <td>0.963229</td>\n",
       "      <td>0.833333</td>\n",
       "      <td>0.886525</td>\n",
       "      <td>0.859107</td>\n",
       "    </tr>\n",
       "    <tr>\n",
       "      <th>0</th>\n",
       "      <td>Logistic Regression</td>\n",
       "      <td>0.971057</td>\n",
       "      <td>0.961435</td>\n",
       "      <td>0.820000</td>\n",
       "      <td>0.884892</td>\n",
       "      <td>0.851211</td>\n",
       "    </tr>\n",
       "    <tr>\n",
       "      <th>1</th>\n",
       "      <td>Decision Tree</td>\n",
       "      <td>0.999776</td>\n",
       "      <td>0.960538</td>\n",
       "      <td>0.866667</td>\n",
       "      <td>0.844156</td>\n",
       "      <td>0.855263</td>\n",
       "    </tr>\n",
       "  </tbody>\n",
       "</table>\n",
       "</div>"
      ],
      "text/plain": [
       "                 Model  Train Accuracy  Test Accuracy    Recall  Precision  \\\n",
       "2        Random Forest        0.999776       0.974888  0.866667   0.942029   \n",
       "5             XG Boost        0.999776       0.973991  0.886667   0.917241   \n",
       "4                  KNN        0.981153       0.973991  0.886667   0.917241   \n",
       "3                  SVM        0.976666       0.963229  0.833333   0.886525   \n",
       "0  Logistic Regression        0.971057       0.961435  0.820000   0.884892   \n",
       "1        Decision Tree        0.999776       0.960538  0.866667   0.844156   \n",
       "\n",
       "         F1  \n",
       "2  0.902778  \n",
       "5  0.901695  \n",
       "4  0.901695  \n",
       "3  0.859107  \n",
       "0  0.851211  \n",
       "1  0.855263  "
      ]
     },
     "execution_count": 131,
     "metadata": {},
     "output_type": "execute_result"
    }
   ],
   "source": [
    "report_df.sort_values(by=['Test Accuracy','Train Accuracy','Precision'],ascending=False)"
   ]
  },
  {
   "cell_type": "code",
   "execution_count": 149,
   "id": "d9532858-7520-4dfb-a219-4ed2f080fc15",
   "metadata": {},
   "outputs": [
    {
     "data": {
      "text/plain": [
       "<Axes: >"
      ]
     },
     "execution_count": 149,
     "metadata": {},
     "output_type": "execute_result"
    },
    {
     "data": {
      "image/png": "[encoded data removed]",
      "text/plain": [
       "<Figure size 700x500 with 1 Axes>"
      ]
     },
     "metadata": {},
     "output_type": "display_data"
    }
   ],
   "source": [
    "report_df.plot(kind='barh',grid=True, figsize=(7,5))"
   ]
  },
  {
   "cell_type": "code",
   "execution_count": 143,
   "id": "c66bc6d1-64e4-4926-8429-0384188a1ec4",
   "metadata": {},
   "outputs": [
    {
     "data": {
      "image/png": "[encoded data removed]",
      "text/plain": [
       "<Figure size 1500x1000 with 6 Axes>"
      ]
     },
     "metadata": {},
     "output_type": "display_data"
    }
   ],
   "source": [
    "from sklearn.metrics import ConfusionMatrixDisplay\n",
    "fig,axes = plt.subplots(2,3,figsize=(15,10))\n",
    "axes=axes.flatten()\n",
    "\n",
    "for model, ax in zip(models.values(), axes):\n",
    "    disp = ConfusionMatrixDisplay.from_estimator(model,X_test_vector,y_test,ax=ax,cmap='Greens',colorbar=False)\n",
    "    ax.set_title(type(model).__name__)\n",
    "\n",
    "plt.tight_layout()\n",
    "plt.show()"
   ]
  },
  {
   "cell_type": "code",
   "execution_count": null,
   "id": "9738a3ea-ee5a-4eea-a9bb-48b5249c9426",
   "metadata": {},
   "outputs": [],
   "source": []
  }
 ],
 "metadata": {
  "kernelspec": {
   "display_name": "Python [conda env:base] *",
   "language": "python",
   "name": "conda-base-py"
  },
  "language_info": {
   "codemirror_mode": {
    "name": "ipython",
    "version": 3
   },
   "file_extension": ".py",
   "mimetype": "text/x-python",
   "name": "python",
   "nbconvert_exporter": "python",
   "pygments_lexer": "ipython3",
   "version": "3.12.7"
  }
 },
 "nbformat": 4,
 "nbformat_minor": 5
}
